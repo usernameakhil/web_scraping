{
 "cells": [
  {
   "cell_type": "code",
   "execution_count": 4,
   "id": "cc79d680-68dd-4800-9a50-778dbc259162",
   "metadata": {},
   "outputs": [
    {
     "name": "stdout",
     "output_type": "stream",
     "text": [
      "Top 5 trending repositories saved to 'top_5_trending_repos.csv'\n"
     ]
    }
   ],
   "source": [
    "import requests\n",
    "from bs4 import BeautifulSoup\n",
    "import csv\n",
    "\n",
    "# URL for GitHub trending\n",
    "URL = \"https://github.com/trending\"\n",
    "\n",
    "# Send a GET request\n",
    "response = requests.get(URL)\n",
    "response.raise_for_status()  # Raise exception if request failed\n",
    "\n",
    "# Parse the HTML content using BeautifulSoup\n",
    "soup = BeautifulSoup(response.text, 'html.parser')\n",
    "\n",
    "# Find the repository entries\n",
    "repo_entries = soup.find_all('article', class_='Box-row')[:5]  # Top 5\n",
    "\n",
    "# Prepare data for CSV\n",
    "repos_data = []\n",
    "for repo in repo_entries:\n",
    "    # Extract the repository name (e.g., \"owner/repo\")\n",
    "    full_name = repo.h2.a.get_text(strip=True).replace('\\n', '').replace(' ', '')\n",
    "    # Construct the full link\n",
    "    link = f\"https://github.com{repo.h2.a['href']}\"\n",
    "    repos_data.append([full_name, link])\n",
    "\n",
    "# Write to CSV\n",
    "with open('top_5_trending_repos.csv', 'w', newline='', encoding='utf-8') as csvfile:\n",
    "    writer = csv.writer(csvfile)\n",
    "    writer.writerow(['repository name', 'link'])  # Header\n",
    "    writer.writerows(repos_data)\n",
    "\n",
    "print(\"Top 5 trending repositories saved to 'top_5_trending_repos.csv'\")\n"
   ]
  },
  {
   "cell_type": "code",
   "execution_count": null,
   "id": "09cfd6ff-2cec-4191-9e62-4fa3c9cce9f1",
   "metadata": {},
   "outputs": [],
   "source": []
  }
 ],
 "metadata": {
  "kernelspec": {
   "display_name": "Python [conda env:base] *",
   "language": "python",
   "name": "conda-base-py"
  },
  "language_info": {
   "codemirror_mode": {
    "name": "ipython",
    "version": 3
   },
   "file_extension": ".py",
   "mimetype": "text/x-python",
   "name": "python",
   "nbconvert_exporter": "python",
   "pygments_lexer": "ipython3",
   "version": "3.12.7"
  }
 },
 "nbformat": 4,
 "nbformat_minor": 5
}
